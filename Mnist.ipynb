{
  "nbformat": 4,
  "nbformat_minor": 0,
  "metadata": {
    "colab": {
      "provenance": [],
      "authorship_tag": "ABX9TyNkQAu+OPBONWIjnzKeXkRM",
      "include_colab_link": true
    },
    "kernelspec": {
      "name": "python3",
      "display_name": "Python 3"
    },
    "language_info": {
      "name": "python"
    }
  },
  "cells": [
    {
      "cell_type": "markdown",
      "metadata": {
        "id": "view-in-github",
        "colab_type": "text"
      },
      "source": [
        "<a href=\"https://colab.research.google.com/github/Jolanta27/Supervised_learning/blob/master/Mnist.ipynb\" target=\"_parent\"><img src=\"https://colab.research.google.com/assets/colab-badge.svg\" alt=\"Open In Colab\"/></a>"
      ]
    },
    {
      "cell_type": "code",
      "execution_count": null,
      "metadata": {
        "colab": {
          "base_uri": "https://localhost:8080/"
        },
        "id": "ik1Y-sGiNXjp",
        "outputId": "89b7c699-6959-4778-c8f7-6f53ba0e64c5"
      },
      "outputs": [
        {
          "output_type": "stream",
          "name": "stderr",
          "text": [
            "/usr/local/lib/python3.10/dist-packages/sklearn/datasets/_openml.py:1022: FutureWarning: The default value of `parser` will change from `'liac-arff'` to `'auto'` in 1.4. You can set `parser='auto'` to silence this warning. Therefore, an `ImportError` will be raised from 1.4 if the dataset is dense and pandas is not installed. Note that the pandas parser may return different data types. See the Notes Section in fetch_openml's API doc for details.\n",
            "  warn(\n",
            "/usr/local/lib/python3.10/dist-packages/sklearn/datasets/_openml.py:110: UserWarning: A network error occurred while downloading https://api.openml.org/data/v1/download/52667. Retrying...\n",
            "  warn(\n"
          ]
        },
        {
          "output_type": "stream",
          "name": "stdout",
          "text": [
            "(70000, 784)\n",
            "(70000,)\n"
          ]
        }
      ],
      "source": [
        "from sklearn.datasets import fetch_openml\n",
        "\n",
        "mnist = fetch_openml('mnist_784', version=1)\n",
        "mnist_data = mnist['data']\n",
        "mnist_target = mnist['target']\n",
        "\n",
        "print(mnist_data.shape)\n",
        "print(mnist_target.shape)"
      ]
    },
    {
      "cell_type": "markdown",
      "source": [
        "There are 70 000 images and each image has 784 features."
      ],
      "metadata": {
        "id": "8q2GT3nMPG-m"
      }
    },
    {
      "cell_type": "code",
      "source": [
        "%matplotlib inline\n",
        "import matplotlib\n",
        "import matplotlib.pyplot as plt\n",
        "\n",
        "some_digit = mnist_data.iloc[36000].values\n",
        "some_digit_image = some_digit.reshape(28, 28)\n",
        "\n",
        "plt.imshow(some_digit_image, cmap = matplotlib.cm.binary, interpolation=\"nearest\")\n",
        "plt.axis(\"off\")\n",
        "plt.show()"
      ],
      "metadata": {
        "colab": {
          "base_uri": "https://localhost:8080/",
          "height": 406
        },
        "id": "xDEV9RXCPVPK",
        "outputId": "bd7ebb57-e97d-49f9-933e-463899b14dae"
      },
      "execution_count": null,
      "outputs": [
        {
          "output_type": "display_data",
          "data": {
            "text/plain": [
              "<Figure size 640x480 with 1 Axes>"
            ],
            "image/png": "[encoded data removed]"
          },
          "metadata": {}
        }
      ]
    },
    {
      "cell_type": "code",
      "source": [
        "print(mnist_target[36000])"
      ],
      "metadata": {
        "colab": {
          "base_uri": "https://localhost:8080/"
        },
        "id": "IF6vbPU-QWz_",
        "outputId": "bdb7604b-c6e8-48ac-eca1-ce435003cc4b"
      },
      "execution_count": null,
      "outputs": [
        {
          "output_type": "stream",
          "name": "stdout",
          "text": [
            "9\n"
          ]
        }
      ]
    },
    {
      "cell_type": "code",
      "source": [
        "num_images = 20\n",
        "\n",
        "indices = range(36000, 36000 + num_images)\n",
        "\n",
        "fig, axes = plt.subplots(1, num_images, figsize=(15, 15))\n",
        "\n",
        "for ax, idx in zip(axes, indices):\n",
        "    some_digit = mnist_data.iloc[idx].values\n",
        "    some_digit_image = some_digit.reshape(28, 28)\n",
        "    ax.imshow(some_digit_image, cmap=matplotlib.cm.binary, interpolation=\"nearest\")\n",
        "    ax.axis(\"off\")\n",
        "\n",
        "plt.show()"
      ],
      "metadata": {
        "colab": {
          "base_uri": "https://localhost:8080/",
          "height": 85
        },
        "id": "ZsKon5hmQ0L4",
        "outputId": "5738ef15-0166-422e-f4d8-615fa86ab96c"
      },
      "execution_count": null,
      "outputs": [
        {
          "output_type": "display_data",
          "data": {
            "text/plain": [
              "<Figure size 1500x1500 with 20 Axes>"
            ],
            "image/png": "[encoded data removed]"
          },
          "metadata": {}
        }
      ]
    },
    {
      "cell_type": "code",
      "source": [
        "# Podział danych na zestawy treningowe i testowe\n",
        "X_train, X_test = mnist_data.iloc[:60000], mnist_data.iloc[60000:]\n",
        "y_train, y_test = mnist_target.iloc[:60000], mnist_target.iloc[60000:]\n",
        "\n",
        "print(X_train.shape, X_test.shape)\n",
        "print(y_train.shape, y_test.shape)"
      ],
      "metadata": {
        "colab": {
          "base_uri": "https://localhost:8080/"
        },
        "id": "SvFosAfjRIGf",
        "outputId": "732a1ca7-92b3-4ed3-cc6d-fdeb9ecb8f45"
      },
      "execution_count": null,
      "outputs": [
        {
          "output_type": "stream",
          "name": "stdout",
          "text": [
            "(60000, 784) (10000, 784)\n",
            "(60000,) (10000,)\n"
          ]
        }
      ]
    },
    {
      "cell_type": "code",
      "source": [
        "import numpy as np\n",
        "\n",
        "# Przetasowanie danych treningowych\n",
        "shuffle_index = np.random.permutation(60000)\n",
        "X_train = X_train.iloc[shuffle_index]\n",
        "y_train = y_train.iloc[shuffle_index]\n",
        "\n",
        "print(X_train.shape, y_train.shape)"
      ],
      "metadata": {
        "colab": {
          "base_uri": "https://localhost:8080/"
        },
        "id": "n9L9Vkv8XDpb",
        "outputId": "8809aab2-7784-4c61-ff6a-57a6a9f03f53"
      },
      "execution_count": null,
      "outputs": [
        {
          "output_type": "stream",
          "name": "stdout",
          "text": [
            "(60000, 784) (60000,)\n"
          ]
        }
      ]
    },
    {
      "cell_type": "code",
      "source": [
        "print(np.unique(y_train))"
      ],
      "metadata": {
        "colab": {
          "base_uri": "https://localhost:8080/"
        },
        "id": "tXkxE9h_d-F2",
        "outputId": "71f64eba-891e-42c1-da08-8c86bf475c7c"
      },
      "execution_count": null,
      "outputs": [
        {
          "output_type": "stream",
          "name": "stdout",
          "text": [
            "['0' '1' '2' '3' '4' '5' '6' '7' '8' '9']\n"
          ]
        }
      ]
    },
    {
      "cell_type": "code",
      "source": [
        "y_train_5 = (y_train == 5)\n",
        "y_test_5 = (y_test == 5)\n",
        "print(\"Unique values in y_train_5:\", np.unique(y_train_5))"
      ],
      "metadata": {
        "colab": {
          "base_uri": "https://localhost:8080/"
        },
        "id": "MIiV7aEkYNMl",
        "outputId": "d0008c0a-5c17-46a4-fb39-028dcd5e02e3"
      },
      "execution_count": null,
      "outputs": [
        {
          "output_type": "stream",
          "name": "stdout",
          "text": [
            "Unique values in y_train_5: [False]\n"
          ]
        }
      ]
    },
    {
      "cell_type": "code",
      "source": [
        "# Sprawdzenie typu danych y_train\n",
        "print(\"Type of y_train:\", type(y_train))\n",
        "print(\"First few elements of y_train:\", y_train[:10])\n",
        "\n",
        "# Tworzenie binarnych etykiet, gdzie True oznacza cyfrę 5, a False inne cyfry\n",
        "y_train_5 = (y_train == '5')  # Jeśli y_train jest typu str\n",
        "# y_train_5 = (y_train == 5)  # Jeśli y_train jest typu int\n",
        "\n",
        "# Sprawdzenie unikalnych wartości w y_train_5\n",
        "print(\"Unique values in y_train_5:\", np.unique(y_train_5))\n",
        "\n",
        "from sklearn.linear_model import SGDClassifier\n",
        "from sklearn.metrics import accuracy_score\n",
        "\n",
        "# Trenowanie modelu\n",
        "sgd_clf = SGDClassifier(random_state=42)\n",
        "sgd_clf.fit(X_train, y_train_5)\n",
        "\n",
        "# Przykładowa predykcja\n",
        "some_digit = X_test.iloc[0]  # Zakładam, że some_digit to pierwszy obrazek z X_test\n",
        "print(\"Prediction for some_digit:\", sgd_clf.predict([some_digit]))\n",
        "\n",
        "# Sprawdzenie kilku predykcji\n",
        "predictions = sgd_clf.predict(X_test[:10])\n",
        "print(\"Predictions for first 10 digits:\", predictions)\n",
        "\n",
        "# Sprawdzenie dokładności modelu\n",
        "y_pred = sgd_clf.predict(X_test)\n",
        "accuracy = accuracy_score(y_test_5, y_pred)\n",
        "print(\"Model accuracy:\", accuracy)"
      ],
      "metadata": {
        "colab": {
          "base_uri": "https://localhost:8080/"
        },
        "id": "BwcqHTjDcM75",
        "outputId": "fe89694e-6467-496e-bb5f-6e60aac134f4"
      },
      "execution_count": null,
      "outputs": [
        {
          "output_type": "stream",
          "name": "stdout",
          "text": [
            "Type of y_train: <class 'pandas.core.series.Series'>\n",
            "First few elements of y_train: 48069    5\n",
            "43323    1\n",
            "16545    1\n",
            "19722    6\n",
            "3540     1\n",
            "21341    3\n",
            "37300    5\n",
            "50734    5\n",
            "53855    7\n",
            "16946    1\n",
            "Name: class, dtype: category\n",
            "Categories (10, object): ['0', '1', '2', '3', ..., '6', '7', '8', '9']\n",
            "Unique values in y_train_5: [False  True]\n",
            "Prediction for some_digit: [False]\n",
            "Predictions for first 10 digits: [False False False False False False False False False False]\n",
            "Model accuracy: 0.9235\n"
          ]
        },
        {
          "output_type": "stream",
          "name": "stderr",
          "text": [
            "/usr/local/lib/python3.10/dist-packages/sklearn/base.py:465: UserWarning: X does not have valid feature names, but SGDClassifier was fitted with feature names\n",
            "  warnings.warn(\n"
          ]
        }
      ]
    },
    {
      "cell_type": "code",
      "source": [
        "from sklearn.model_selection import train_test_split\n",
        "\n",
        "# Sprawdzenie liczby przykładów klasy 5 w zbiorze treningowym\n",
        "num_fives_in_train = np.sum(y_train_5)\n",
        "print(\"Number of 5s in the training set:\", num_fives_in_train)\n",
        "\n",
        "# Jeśli są przykłady klasy 5 w zbiorze treningowym, podzielmy zbiór na treningowy i testowy\n",
        "if num_fives_in_train > 0:\n",
        "    X_train_new, X_test_new, y_train_5_new, y_test_5_new = train_test_split(X_train, y_train_5, test_size=0.2, random_state=42, stratify=y_train_5)\n",
        "\n",
        "    # Trenowanie modelu na nowym zbiorze treningowym\n",
        "    sgd_clf.fit(X_train_new, y_train_5_new)\n",
        "\n",
        "    # Sprawdzenie predykcji na nowym zbiorze testowym\n",
        "    predictions = sgd_clf.predict(X_test_new[:10])\n",
        "    print(\"Predictions for first 10 digits in new test set:\", predictions)\n",
        "\n",
        "    # Sprawdzenie dokładności modelu na nowym zbiorze testowym\n",
        "    y_pred_new = sgd_clf.predict(X_test_new)\n",
        "    accuracy_new = accuracy_score(y_test_5_new, y_pred_new)\n",
        "    print(\"Model accuracy on new test set:\", accuracy_new)\n",
        "else:\n",
        "    print(\"No examples of class 5 in the training set.\")"
      ],
      "metadata": {
        "colab": {
          "base_uri": "https://localhost:8080/"
        },
        "id": "sduhTOw0gZx_",
        "outputId": "0d94ebce-3515-466a-aca7-44c73231dabc"
      },
      "execution_count": null,
      "outputs": [
        {
          "output_type": "stream",
          "name": "stdout",
          "text": [
            "Number of 5s in the training set: 5421\n",
            "Predictions for first 10 digits in new test set: [False False False False  True False False False False  True]\n",
            "Model accuracy on new test set: 0.9699166666666666\n"
          ]
        }
      ]
    },
    {
      "cell_type": "code",
      "source": [
        "from sklearn.model_selection import cross_val_score\n",
        "\n",
        "# Pełny zbiór danych i etykiet\n",
        "X_full = X_train\n",
        "y_full = y_train_5\n",
        "\n",
        "# Walidacja krzyżowa\n",
        "cv_scores = cross_val_score(sgd_clf, X_full, y_full, cv=5, scoring='accuracy')\n",
        "\n",
        "# Wyświetlenie wyników walidacji krzyżowej\n",
        "print(\"Cross-validation scores:\", cv_scores)\n",
        "print(\"Mean cross-validation score:\", cv_scores.mean())"
      ],
      "metadata": {
        "colab": {
          "base_uri": "https://localhost:8080/"
        },
        "id": "Bscne7N8hz7n",
        "outputId": "172e0279-a6f4-42fb-d263-220d33fa09e7"
      },
      "execution_count": null,
      "outputs": [
        {
          "output_type": "stream",
          "name": "stdout",
          "text": [
            "Cross-validation scores: [0.95841667 0.96658333 0.94975    0.9525     0.94333333]\n",
            "Mean cross-validation score: 0.9541166666666667\n"
          ]
        }
      ]
    },
    {
      "cell_type": "code",
      "source": [
        "import matplotlib.pyplot as plt\n",
        "\n",
        "five_indices_new = np.where(y_test_5_new == True)[0]\n",
        "\n",
        "num_images = len(five_indices_new)\n",
        "plt.figure(figsize=(10, 10))\n",
        "for i, idx in enumerate(five_indices_new[:25]):  # Wyświetlenie maksymalnie 25 obrazów\n",
        "    plt.subplot(5, 5, i + 1)\n",
        "    plt.imshow(X_test_new.iloc[idx].values.reshape(28, 28), cmap='gray')\n",
        "    plt.axis('off')\n",
        "plt.show()"
      ],
      "metadata": {
        "colab": {
          "base_uri": "https://localhost:8080/",
          "height": 807
        },
        "id": "8bK3K_ImkfSW",
        "outputId": "f9ebef8e-619f-4ff2-c881-37d20b73c046"
      },
      "execution_count": null,
      "outputs": [
        {
          "output_type": "display_data",
          "data": {
            "text/plain": [
              "<Figure size 1000x1000 with 25 Axes>"
            ],
            "image/png": "[encoded data removed]"
          },
          "metadata": {}
        }
      ]
    },
    {
      "cell_type": "code",
      "source": [
        "import numpy as np\n",
        "\n",
        "# Generowanie szumu dla zbioru treningowego\n",
        "noise_train = np.random.randint(0, 100, (len(X_train), 784))\n",
        "X_train_mod = X_train + noise_train\n",
        "\n",
        "# Generowanie szumu dla zbioru testowego\n",
        "noise_test = np.random.randint(0, 100, (len(X_test), 784))\n",
        "X_test_mod = X_test + noise_test\n",
        "\n",
        "# Etykiety dla zmodyfikowanych danych\n",
        "y_train_mod = X_train\n",
        "y_test_mod = X_test"
      ],
      "metadata": {
        "id": "4GIbWMOGwNy5"
      },
      "execution_count": null,
      "outputs": []
    },
    {
      "cell_type": "code",
      "source": [
        "import matplotlib.pyplot as plt\n",
        "\n",
        "#Dwa indeksy obrazków do wyświetlenia\n",
        "index1 = 0\n",
        "index2 = 1\n",
        "\n",
        "# Wyświetlenie oryginalnych i zmodyfikowanych obrazków\n",
        "plt.figure(figsize=(10, 5))\n",
        "\n",
        "# Oryginalny obrazek 1\n",
        "plt.subplot(2, 2, 1)\n",
        "plt.imshow(X_train.iloc[index1].values.reshape(28, 28), cmap='gray')\n",
        "plt.title(\"Oryginalny obrazek 1\")\n",
        "plt.axis('off')\n",
        "\n",
        "# Zmodyfikowany obrazek 1\n",
        "plt.subplot(2, 2, 2)\n",
        "plt.imshow(X_train_mod.iloc[index1].values.reshape(28, 28), cmap='gray')\n",
        "plt.title(\"Zmodyfikowany obrazek 1\")\n",
        "plt.axis('off')\n",
        "\n",
        "# Oryginalny obrazek 2\n",
        "plt.subplot(2, 2, 3)\n",
        "plt.imshow(X_train.iloc[index2].values.reshape(28, 28), cmap='gray')\n",
        "plt.title(\"Oryginalny obrazek 2\")\n",
        "plt.axis('off')\n",
        "\n",
        "# Zmodyfikowany obrazek 2\n",
        "plt.subplot(2, 2, 4)\n",
        "plt.imshow(X_train_mod.iloc[index2].values.reshape(28, 28), cmap='gray')\n",
        "plt.title(\"Zmodyfikowany obrazek 2\")\n",
        "plt.axis('off')\n",
        "\n",
        "plt.tight_layout()\n",
        "plt.show()"
      ],
      "metadata": {
        "colab": {
          "base_uri": "https://localhost:8080/",
          "height": 507
        },
        "id": "Dx44CBGY0G3S",
        "outputId": "3891e58e-09e9-4256-c542-178cc2b28e65"
      },
      "execution_count": null,
      "outputs": [
        {
          "output_type": "display_data",
          "data": {
            "text/plain": [
              "<Figure size 1000x500 with 4 Axes>"
            ],
            "image/png": "[encoded data removed]"
          },
          "metadata": {}
        }
      ]
    },
    {
      "cell_type": "code",
      "source": [
        "from sklearn.neighbors import KNeighborsClassifier\n",
        "import matplotlib.pyplot as plt\n",
        "\n",
        "def plot_digit(data):\n",
        "    image = data.reshape(28, 28)\n",
        "    plt.imshow(image, cmap='gray')\n",
        "    plt.axis('off')\n",
        "    plt.show()\n",
        "\n",
        "# Konwersja danych na tablice NumPy\n",
        "X_train_mod_np = X_train_mod.values\n",
        "y_train_mod_np = y_train_mod.values\n",
        "X_test_mod_np = X_test_mod.values\n",
        "\n",
        "# Inicjalizacja klasyfikatora KNN\n",
        "knn_clf = KNeighborsClassifier()\n",
        "\n",
        "# Trenowanie klasyfikatora na zmodyfikowanych danych\n",
        "knn_clf.fit(X_train_mod_np, y_train_mod_np)\n",
        "\n",
        "# Wybór indeksu obrazu do oczyszczenia\n",
        "some_index = 0\n",
        "\n",
        "# Przewidywanie czystego obrazu na podstawie zmodyfikowanego obrazu\n",
        "clean_digit = knn_clf.predict([X_test_mod_np[some_index]])\n",
        "\n",
        "# Wyświetlenie przewidzianego czystego obrazu\n",
        "plot_digit(clean_digit)"
      ],
      "metadata": {
        "colab": {
          "base_uri": "https://localhost:8080/",
          "height": 406
        },
        "id": "5yx9jiwn0e6a",
        "outputId": "ef0fcb23-3459-464e-eab1-1e99e8cd43d4"
      },
      "execution_count": null,
      "outputs": [
        {
          "output_type": "display_data",
          "data": {
            "text/plain": [
              "<Figure size 640x480 with 1 Axes>"
            ],
            "image/png": "[encoded data removed]"
          },
          "metadata": {}
        }
      ]
    }
  ]
}